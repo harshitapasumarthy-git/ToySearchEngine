{
 "cells": [
  {
   "cell_type": "markdown",
   "metadata": {},
   "source": [
    "# CSE 5334 Programming Assignment 1 (P1)"
   ]
  },
  {
   "cell_type": "markdown",
   "metadata": {},
   "source": [
    "## Fall 2023"
   ]
  },
  {
   "cell_type": "markdown",
   "metadata": {},
   "source": [
    "## Due: 11:59pm Central Time, Friday, September 29, 2023"
   ]
  },
  {
   "cell_type": "markdown",
   "metadata": {},
   "source": [
    "In this assignment, you will implement a toy \"search engine\" in Python. You code will read a corpus and produce TF-IDF vectors for documents in the corpus. Then, given a query string, you code will return the query answer--the document with the highest cosine similarity score for the query. \n",
    "\n",
    "The instructions on this assignment are written in an .ipynb file. You can use the following commands to install the Jupyter notebook viewer. You can use the following commands to install the Jupyter notebook viewer. \"pip\" is a command for installing Python packages. You are required to use Python 3.5.1 or more recent versions of Python in this project. \n",
    "\n",
    "    pip install jupyter\n",
    "\n",
    "    pip install notebook (You might have to use \"sudo\" if you are installing them at system level)\n",
    "\n",
    "To run the Jupyter notebook viewer, use the following command:\n",
    "\n",
    "    jupyter notebook P1.ipynb\n",
    "\n",
    "The above command will start a webservice at http://localhost:8888/ and display the instructions in the '.ipynb' file."
   ]
  },
  {
   "cell_type": "markdown",
   "metadata": {},
   "source": [
    "### Requirements"
   ]
  },
  {
   "cell_type": "markdown",
   "metadata": {},
   "source": [
    "* This assignment must be done individually. You must implement the whole assignment by yourself. Academic dishonety will have serious consequences.\n",
    "* You can discuss topics related to the assignment with your fellow students. But you are not allowed to discuss/share your solution and code."
   ]
  },
  {
   "cell_type": "markdown",
   "metadata": {},
   "source": [
    "### Dataset"
   ]
  },
  {
   "cell_type": "markdown",
   "metadata": {},
   "source": [
    "We use a corpus of 15 Inaugural addresses of different US presidents. We processed the corpus and provided you a .zip file, which includes 15 .txt files."
   ]
  },
  {
   "cell_type": "markdown",
   "metadata": {},
   "source": [
    "### Programming Language"
   ]
  },
  {
   "cell_type": "markdown",
   "metadata": {},
   "source": [
    "1. You are required to submit a single .py file of your code.\n",
    "\n",
    "2. You are expected to use several modules in NLTK--a natural language processing toolkit for Python. NLTK doesn't come with Python by default. You need to install it and \"import\" it in your .py file. NLTK's website (http://www.nltk.org/index.html) provides a lot of useful information, including a book http://www.nltk.org/book/, as well as installation instructions (http://www.nltk.org/install.html).\n",
    "\n",
    "3. In programming assignment 1, other than NLTK, you are not allowed to use any other non-standard Python package. However, you are free to use anything from the the Python Standard Library that comes with Python (https://docs.python.org/3/library/)."
   ]
  },
  {
   "cell_type": "markdown",
   "metadata": {},
   "source": [
    "### Tasks"
   ]
  },
  {
   "cell_type": "markdown",
   "metadata": {},
   "source": [
    "You code should accomplish the following tasks:\n",
    "\n",
    "(1) <b>Read</b> the 15 .txt files, each of which has the transcript of inaugural addresses by different US presidents. The following code does it. Make sure to replace \"corpusroot\" by your directory where the files are stored. In the example below, \"corpusroot\" is a sub-folder named \"US_Inaugural_Addresses\" in the folder containing the python file of the code. \n",
    "\n",
    "In this assignment we ignore the difference between lower and upper cases. So convert the text to lower case before you do anything else with the text. For a query, also convert it to lower case before you answer the query. "
   ]
  },
  {
   "cell_type": "code",
   "execution_count": 1,
   "metadata": {},
   "outputs": [],
   "source": [
    "import os\n",
    "corpusroot = './US_Inaugural_Addresses'\n",
    "for filename in os.listdir(corpusroot):\n",
    "    if filename.startswith('0') or filename.startswith('1'):\n",
    "        file = open(os.path.join(corpusroot, filename), \"r\", encoding='windows-1252')\n",
    "        doc = file.read()\n",
    "        file.close() \n",
    "        doc = doc.lower()\n"
   ]
  },
  {
   "cell_type": "markdown",
   "metadata": {},
   "source": [
    "(2) <b>Tokenize</b> the content of each file. For this, you need a tokenizer. For example, the following piece of code uses a regular expression tokenizer to return all course numbers in a string. Play with it and edit it. You can change the regular expression and the string to observe different output results. \n",
    "\n",
    "For tokenizing the inaugural Presidential speeches, we will use RegexpTokenizer(r'[a-zA-Z]+')\n"
   ]
  },
  {
   "cell_type": "code",
   "execution_count": 2,
   "metadata": {},
   "outputs": [
    {
     "name": "stdout",
     "output_type": "stream",
     "text": [
      "['CSE', 'and', 'CSE', 'are', 'taught', 'together', 'IE', 'is', 'an', 'undergraduate', 'course']\n"
     ]
    }
   ],
   "source": [
    "from nltk.tokenize import RegexpTokenizer\n",
    "tokenizer = RegexpTokenizer(r'[a-zA-Z]+')\n",
    "tokens = tokenizer.tokenize(\"CSE4334 and CSE5534 are taught together. IE3013 is an undergraduate course.\")\n",
    "print(tokens)"
   ]
  },
  {
   "cell_type": "markdown",
   "metadata": {},
   "source": [
    "(3) Perform <b>stopword removal</b> on the obtained tokens. NLTK already comes with a stopword list, as a corpus in the \"NLTK Data\" (http://www.nltk.org/nltk_data/). You need to install this corpus. Follow the instructions at http://www.nltk.org/data.html. You can also find the instruction in this book: http://www.nltk.org/book/ch01.html (Section 1.2 Getting Started with NLTK). Basically, use the following statements in Python interpreter. A pop-up window will appear. Click \"Corpora\" and choose \"stopwords\" from the list."
   ]
  },
  {
   "cell_type": "code",
   "execution_count": 3,
   "metadata": {},
   "outputs": [],
   "source": [
    "#import nltk\n",
    "#nltk.download()"
   ]
  },
  {
   "cell_type": "markdown",
   "metadata": {},
   "source": [
    "After the stopword list is downloaded, you will find a file \"english\" in folder nltk_data/corpora/stopwords, where folder nltk_data is the download directory in the step above. The file contains 179 stopwords. nltk.corpus.stopwords will give you this list of stopwords. Try the following piece of code."
   ]
  },
  {
   "cell_type": "code",
   "execution_count": 4,
   "metadata": {},
   "outputs": [
    {
     "name": "stdout",
     "output_type": "stream",
     "text": [
      "['i', 'me', 'my', 'myself', 'we', 'our', 'ours', 'ourselves', 'you', \"you're\", \"you've\", \"you'll\", \"you'd\", 'your', 'yours', 'yourself', 'yourselves', 'he', 'him', 'his', 'himself', 'she', \"she's\", 'her', 'hers', 'herself', 'it', \"it's\", 'its', 'itself', 'they', 'them', 'their', 'theirs', 'themselves', 'what', 'which', 'who', 'whom', 'this', 'that', \"that'll\", 'these', 'those', 'am', 'is', 'are', 'was', 'were', 'be', 'been', 'being', 'have', 'has', 'had', 'having', 'do', 'does', 'did', 'doing', 'a', 'an', 'the', 'and', 'but', 'if', 'or', 'because', 'as', 'until', 'while', 'of', 'at', 'by', 'for', 'with', 'about', 'against', 'between', 'into', 'through', 'during', 'before', 'after', 'above', 'below', 'to', 'from', 'up', 'down', 'in', 'out', 'on', 'off', 'over', 'under', 'again', 'further', 'then', 'once', 'here', 'there', 'when', 'where', 'why', 'how', 'all', 'any', 'both', 'each', 'few', 'more', 'most', 'other', 'some', 'such', 'no', 'nor', 'not', 'only', 'own', 'same', 'so', 'than', 'too', 'very', 's', 't', 'can', 'will', 'just', 'don', \"don't\", 'should', \"should've\", 'now', 'd', 'll', 'm', 'o', 're', 've', 'y', 'ain', 'aren', \"aren't\", 'couldn', \"couldn't\", 'didn', \"didn't\", 'doesn', \"doesn't\", 'hadn', \"hadn't\", 'hasn', \"hasn't\", 'haven', \"haven't\", 'isn', \"isn't\", 'ma', 'mightn', \"mightn't\", 'mustn', \"mustn't\", 'needn', \"needn't\", 'shan', \"shan't\", 'shouldn', \"shouldn't\", 'wasn', \"wasn't\", 'weren', \"weren't\", 'won', \"won't\", 'wouldn', \"wouldn't\"]\n"
     ]
    }
   ],
   "source": [
    "from nltk.corpus import stopwords\n",
    "print(stopwords.words('english'))\n",
    "#print(len(stopwords.words('english')))"
   ]
  },
  {
   "cell_type": "markdown",
   "metadata": {},
   "source": [
    "(4) Also perform <b>stemming</b> on the obtained tokens. NLTK comes with a Porter stemmer. Try the following code and learn how to use the stemmer."
   ]
  },
  {
   "cell_type": "code",
   "execution_count": 5,
   "metadata": {},
   "outputs": [
    {
     "name": "stdout",
     "output_type": "stream",
     "text": [
      "studi\n",
      "vector\n",
      "entropi\n",
      "hispan\n",
      "ambassador\n"
     ]
    }
   ],
   "source": [
    "from nltk.stem.porter import PorterStemmer\n",
    "stemmer = PorterStemmer()\n",
    "print(stemmer.stem('studying'))\n",
    "print(stemmer.stem('vector'))\n",
    "print(stemmer.stem('entropy'))\n",
    "print(stemmer.stem('hispanic'))\n",
    "print(stemmer.stem('ambassador'))\n"
   ]
  },
  {
   "cell_type": "markdown",
   "metadata": {},
   "source": [
    "(5) Using the tokens, we would like to compute the TF-IDF vector for each document. Given a query string, we can also calculate the query vector and calcuate similarity.\n",
    "\n",
    "In the class, we learned that we can use different weightings for queries and documents and the possible choices are shown below:"
   ]
  },
  {
   "cell_type": "markdown",
   "metadata": {},
   "source": [
    "<img src = 'weighting_scheme.png'>"
   ]
  },
  {
   "cell_type": "markdown",
   "metadata": {},
   "source": [
    "The notation of a weighting scheme is as follows: ddd.qqq, where ddd denotes the combination used for document vector and qqq denotes the combination used for query vector.\n",
    "\n",
    "A very standard weighting scheme is: ltc.lnc; where the processing for document and query vectors are as follows:\n",
    "Document: logarithmic tf, logarithmic idf, cosine normalization\n",
    "Query: logarithmic tf, no idf, cosine normalization\n",
    "\n",
    "Implement query-document similarity using the <b>ltc.lnc</b> weighting scheme and show the outputs for the following:"
   ]
  },
  {
   "cell_type": "code",
   "execution_count": 8,
   "metadata": {},
   "outputs": [],
   "source": [
    "import os\n",
    "corpusroot = './US_Inaugural_Addresses'\n",
    "for filename in os.listdir(corpusroot):\n",
    "    if filename.startswith('0') or filename.startswith('1'):\n",
    "        file = open(os.path.join(corpusroot, filename), \"r\", encoding='windows-1252')\n",
    "        doc = file.read()\n",
    "        file.close() \n",
    "        doc = doc.lower()\n"
   ]
  },
  {
   "cell_type": "code",
   "execution_count": 9,
   "metadata": {},
   "outputs": [],
   "source": [
    "from nltk.tokenize import RegexpTokenizer\n",
    "tokenizer = RegexpTokenizer(r'[a-zA-Z]+')\n",
    "from nltk.corpus import stopwords\n",
    "from nltk.stem.porter import PorterStemmer\n",
    "stemmer = PorterStemmer()"
   ]
  },
  {
   "cell_type": "code",
   "execution_count": 10,
   "metadata": {},
   "outputs": [],
   "source": [
    "def preprocess_text (doc):\n",
    "    tokens = tokenizer.tokenize(doc)\n",
    "    stop_words = stopwords.words('english')\n",
    "    preprocessed_tokens =[stemmer.stem(token) for token in tokens if token not in stop_words]\n",
    "    return preprocessed_tokens\n"
   ]
  },
  {
   "cell_type": "code",
   "execution_count": 11,
   "metadata": {},
   "outputs": [],
   "source": [
    "from collections import Counter\n",
    "import math\n",
    "presidential_speech = {}\n",
    "dfs = {}\n",
    "idfs = {}\n",
    "total_word_counts = {}\n",
    "def calculate_idf():\n",
    "    ndoc = 0\n",
    "    for filename in os.listdir(corpusroot):\n",
    "        if filename.endswith('.txt'):\n",
    "            file_path = os.path.join(corpusroot, filename)\n",
    "            with open(file_path, 'r', encoding='utf-8') as file:\n",
    "                doc = file.read().lower()\n",
    "                preprocessed_tokens = preprocess_text(doc)\n",
    "                tfvec = Counter(preprocessed_tokens)\n",
    "                presidential_speech[filename] = tfvec\n",
    "                ndoc += 1\n",
    "                for token in tfvec:\n",
    "                    if token not in dfs:\n",
    "                        dfs[token] = 1\n",
    "                        total_word_counts[token] = tfvec[token]\n",
    "                    else:\n",
    "                        dfs[token] += 1\n",
    "                        total_word_counts[token] += tfvec[token]\n",
    "    #print(\"dfs\",dfs)\n",
    "    for token, df in dfs.items():\n",
    "        idfs[token] = math.log10(ndoc / df)\n",
    "    #print(\"idfs\",idfs)\n",
    "calculate_idf()\n",
    "\n",
    "def idffunc(stem_token):\n",
    "    if stem_token not in idfs:\n",
    "        return -1\n",
    "    else:\n",
    "        return idfs[stem_token]"
   ]
  },
  {
   "cell_type": "code",
   "execution_count": 12,
   "metadata": {},
   "outputs": [],
   "source": [
    "def getidf(token):\n",
    "    stem_token = stemmer.stem(token)\n",
    "    return idffunc(stem_token)"
   ]
  },
  {
   "cell_type": "code",
   "execution_count": 13,
   "metadata": {},
   "outputs": [
    {
     "name": "stdout",
     "output_type": "stream",
     "text": [
      "0.47712125471966244\n",
      "0.5740312677277188\n",
      "1.1760912590556813\n"
     ]
    }
   ],
   "source": [
    "print(getidf(\"university\"))\n",
    "print(getidf(\"city\"))\n",
    "print(getidf(\"texas\"))"
   ]
  },
  {
   "cell_type": "code",
   "execution_count": 14,
   "metadata": {},
   "outputs": [],
   "source": [
    "def calculate_tfidf(tfvec):\n",
    "    sumOfSquares = 0\n",
    "    tfidf_dic = {}\n",
    "    for token, tf in tfvec.items():\n",
    "\n",
    "        idf = idffunc(token)\n",
    "        tfidf = (1 + math.log10(tf)) * idf\n",
    "        tfidf_dic[token] = tfidf\n",
    "        sumOfSquares += math.pow(tfidf,2)\n",
    "    #print(sumOfSquares)\n",
    "    norm_factor = math.sqrt(sumOfSquares)\n",
    "\n",
    "    for token in tfvec:\n",
    "        tfidf_dic[token]  = tfidf_dic[token]/norm_factor\n",
    "\n",
    "    return tfidf_dic\n",
    "\n",
    "def getweight(filename, token):\n",
    "    stemmed_token = stemmer.stem(token)\n",
    "    tfvec = presidential_speech[filename]\n",
    "    tfvec = calculate_tfidf(tfvec)\n",
    "    #print('normalized tfvec',tfvec)\n",
    "    if stemmed_token in tfvec:\n",
    "        return tfvec[stemmed_token]\n",
    "    else:\n",
    "        return 0"
   ]
  },
  {
   "cell_type": "code",
   "execution_count": 15,
   "metadata": {},
   "outputs": [
    {
     "name": "stdout",
     "output_type": "stream",
     "text": [
      "0\n"
     ]
    }
   ],
   "source": [
    "print(getweight('02_washington_1793.txt', 'token'))"
   ]
  },
  {
   "cell_type": "code",
   "execution_count": 20,
   "metadata": {},
   "outputs": [],
   "source": [
    "import operator\n",
    "speechvecs = {}\n",
    "\n",
    "for filename, tfvec in presidential_speech.items():\n",
    "    tfidfvec = calculate_tfidf(tfvec)\n",
    "    speechvecs[filename] = tfidfvec\n"
   ]
  },
  {
   "cell_type": "code",
   "execution_count": 21,
   "metadata": {},
   "outputs": [
    {
     "name": "stdout",
     "output_type": "stream",
     "text": [
      "0.30350639295555276\n",
      "0\n"
     ]
    }
   ],
   "source": [
    "print(getweight('02_washington_1793.txt', \"arrive\"))\n",
    "print(getweight('01_washington_1789.txt', \"downtowns\"))"
   ]
  },
  {
   "cell_type": "code",
   "execution_count": 22,
   "metadata": {},
   "outputs": [],
   "source": [
    "\n",
    "def cosinesim(vec1, vec2):\n",
    "    common_terms = set(vec1) & set(vec2)\n",
    "    dot_product = sum(vec1[token] * vec2[token] for token in common_terms)\n",
    "    magnitude_vec1 = math.sqrt(sum(vec1[token] ** 2 for token in vec1))\n",
    "    magnitude_vec2 = math.sqrt(sum(vec2[token] ** 2 for token in vec2))\n",
    "\n",
    "    if magnitude_vec1 > 0 and magnitude_vec2 > 0:\n",
    "        similarity = dot_product / (magnitude_vec1 * magnitude_vec2)\n",
    "    else:\n",
    "        similarity = 0.0\n",
    "\n",
    "    return similarity\n",
    "\n",
    "def query(qstring):\n",
    "    qvec = calculate_tfidf(Counter(preprocess_text(qstring.lower())))\n",
    "    scores = {filename: cosinesim(qvec, tfidfvec) for filename, tfidfvec in speechvecs.items()}\n",
    "    result_document = max(scores.items(), key=operator.itemgetter(1))[0]\n",
    "    result_score = scores[result_document]\n",
    "    formatted_result = (result_document, result_score)\n",
    "    return formatted_result"
   ]
  },
  {
   "cell_type": "code",
   "execution_count": 23,
   "metadata": {},
   "outputs": [
    {
     "name": "stdout",
     "output_type": "stream",
     "text": [
      "('15_polk_1845.txt', 0.07691656993709259)\n"
     ]
    }
   ],
   "source": [
    "print(query(\"City Arlington Texas\"))"
   ]
  },
  {
   "cell_type": "code",
   "execution_count": 25,
   "metadata": {
    "scrolled": false
   },
   "outputs": [
    {
     "name": "stdout",
     "output_type": "stream",
     "text": [
      "0.698970004336\n",
      "0.062147906749\n",
      "0.096910013008\n",
      "0.273001272064\n",
      "0.096910013008\n",
      "--------------\n",
      "0.303506392956\n",
      "0.016131105316\n",
      "0.011635243734\n",
      "0.042120287643\n",
      "0.004181740452\n",
      "--------------\n",
      "(03_adams_john_1797.txt, 0.039124446536)\n",
      "(07_madison_1813.txt, 0.092191613684)\n",
      "(05_jefferson_1805.txt, 0.095436139420)\n",
      "(12_jackson_1833.txt, 0.010526839476)\n",
      "(02_washington_1793.txt, 0.320409358355)\n"
     ]
    }
   ],
   "source": [
    "print(\"%.12f\" % getidf('british'))\n",
    "print(\"%.12f\" % getidf('union'))\n",
    "print(\"%.12f\" % getidf('war'))\n",
    "print(\"%.12f\" % getidf('military'))\n",
    "print(\"%.12f\" % getidf('great'))\n",
    "print(\"--------------\")\n",
    "print(\"%.12f\" % getweight('02_washington_1793.txt','arrive'))\n",
    "print(\"%.12f\" % getweight('07_madison_1813.txt','war'))\n",
    "print(\"%.12f\" % getweight('12_jackson_1833.txt','union'))\n",
    "print(\"%.12f\" % getweight('09_monroe_1821.txt','british'))\n",
    "print(\"%.12f\" % getweight('05_jefferson_1805.txt','public'))\n",
    "print(\"--------------\")\n",
    "print(\"(%s, %.12f)\" % query(\"pleasing people\"))\n",
    "print(\"(%s, %.12f)\" % query(\"british war\"))\n",
    "print(\"(%s, %.12f)\" % query(\"false public\"))\n",
    "print(\"(%s, %.12f)\" % query(\"people institutions\"))\n",
    "print(\"(%s, %.12f)\" % query(\"violated willingly\"))\n",
    "          "
   ]
  },
  {
   "cell_type": "markdown",
   "metadata": {},
   "source": [
    "<b> Submit through Canvas your source code in a single .py file.</b> You can use any standard Python library. The only non-standard library/package allowed for this assignment is NLTK. You .py file must define at least the following functions:\n",
    "\n",
    "* getidf(token): return the inverse document frequency of a token. If the token doesn't exist in the corpus, return -1. You should stem the parameter 'token' before calculating the idf score.\n",
    "\n",
    "* getweight(filename,token): return the normalized TF-IDF weight of a token in the document named 'filename'. If the token doesn't exist in the document, return 0. You should stem the parameter 'token' before calculating the tf-idf score.\n",
    "\n",
    "* query(qstring): return a tuple in the form of (filename of the document, score), where the document is the query answer with respect to the weighting scheme. You should stem the query tokens before calculating similarity."
   ]
  },
  {
   "cell_type": "markdown",
   "metadata": {},
   "source": [
    "### Evaluation"
   ]
  },
  {
   "cell_type": "markdown",
   "metadata": {},
   "source": [
    "Your program will be evaluated using the following criteria: \n",
    "\n",
    "* Correctness (75 Points)\n",
    "\n",
    "We will evaluate your code by calling the functions specificed above (getidf - 20 points; getweight - 25 points; query - 30 points). So, make sure to use the same function names, parameter names/types/orders as specified above. We will use the above test cases and other queries and tokens to test your program.\n",
    "\n",
    "\n",
    "* Preprocessing, Efficiency, modularity (25 Points)\n",
    "\n",
    "You should correctly follow the preprocessing steps. An efficient solution should be able to answer a query in a few seconds, you will get deductions if you code takes too long to run (>1 minute). Also, it should consider the boundary cases. Your program should behave correctly under special cases and even incorrect input. Follow good coding standards to make your program easy to understand by others and easy to maintain/extend. \n"
   ]
  }
 ],
 "metadata": {
  "anaconda-cloud": {},
  "kernelspec": {
   "display_name": "Python 3 (ipykernel)",
   "language": "python",
   "name": "python3"
  },
  "language_info": {
   "codemirror_mode": {
    "name": "ipython",
    "version": 3
   },
   "file_extension": ".py",
   "mimetype": "text/x-python",
   "name": "python",
   "nbconvert_exporter": "python",
   "pygments_lexer": "ipython3",
   "version": "3.10.12"
  }
 },
 "nbformat": 4,
 "nbformat_minor": 1
}
